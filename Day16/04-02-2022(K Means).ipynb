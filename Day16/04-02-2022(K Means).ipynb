{
 "cells": [
  {
   "cell_type": "markdown",
   "id": "b6877a9a",
   "metadata": {},
   "source": [
    "### Unsupervised Learning\n",
    "- You don't need to supervise the model. Instead we need to allow the machine to work on its own.\n",
    "    - Clustering Models: Used to identify similar groups in datasets.\n",
    "    \n",
    "#### K Means clustering model\n",
    "- K Means takes a dataset with constant value K and returns K no of cluster.\n",
    "\n",
    "#### How does K Means will work\n",
    "- Step1: Select K no of clusters randomly(ie, K = 2 data points)\n",
    "- Step2: Calculate the distance\n",
    "- Step3: Calculate the new cluster\n",
    "- Step4: Divide into groups\n",
    "- Step5: Repeat the same process"
   ]
  },
  {
   "cell_type": "code",
   "execution_count": null,
   "id": "f2049e52",
   "metadata": {},
   "outputs": [],
   "source": [
    "#sno   X   Y\n",
    "#-----------------\n",
    "# 1   1     1 \n",
    "# 2   1.5   2\n",
    "# 3   3     4\n",
    "# 4   5     7\n",
    "# 5   3.5   5\n",
    "# 6   4.5   5\n",
    "# 7   3.5   4.5"
   ]
  },
  {
   "cell_type": "markdown",
   "id": "3df618fc",
   "metadata": {},
   "source": [
    "- Step1: Select K (K = 2)\n",
    "    - m1 = (1,1), m2 = (5, 7)\n",
    "- Step2: Calculate the distance\n",
    "    - Sqrt( (x2 - x2) ** 2 + (y2 - y1) ** 2 )"
   ]
  },
  {
   "cell_type": "code",
   "execution_count": 2,
   "id": "56880ea5",
   "metadata": {},
   "outputs": [],
   "source": [
    "from math import sqrt"
   ]
  },
  {
   "cell_type": "code",
   "execution_count": null,
   "id": "197a5635",
   "metadata": {},
   "outputs": [],
   "source": [
    "## Distance between (1,1)   (1,1)  and (5,7)    (1,1)\n",
    "#                   (x1,y1) (x2,y2)   (x1,y1)(x2,y2)"
   ]
  },
  {
   "cell_type": "code",
   "execution_count": 3,
   "id": "bd7df1eb",
   "metadata": {
    "collapsed": true
   },
   "outputs": [
    {
     "name": "stdout",
     "output_type": "stream",
     "text": [
      "0.0\n",
      "7.211102550927978\n"
     ]
    }
   ],
   "source": [
    "print(sqrt((1-1)**2 + (1-1)**2))\n",
    "print(sqrt((5-1)**2 + (7-1)**2))"
   ]
  },
  {
   "cell_type": "code",
   "execution_count": null,
   "id": "c33c8ac3",
   "metadata": {},
   "outputs": [],
   "source": [
    "## Distance between (1.5,2)   (1,1)  and (1.5,2) (5,7)   \n",
    "#                   (x1,y1) (x2,y2)     (x1,y1)  (x2,y2)"
   ]
  },
  {
   "cell_type": "code",
   "execution_count": 4,
   "id": "5ed2b300",
   "metadata": {
    "collapsed": true
   },
   "outputs": [
    {
     "name": "stdout",
     "output_type": "stream",
     "text": [
      "1.118033988749895\n",
      "6.4031242374328485\n"
     ]
    }
   ],
   "source": [
    "print(sqrt((1-1.5)**2 + (1-2)**2))\n",
    "print(sqrt((5-1)**2 + (7 -2)**2))"
   ]
  },
  {
   "cell_type": "code",
   "execution_count": null,
   "id": "acb99f06",
   "metadata": {},
   "outputs": [],
   "source": [
    "# Updated values of X and Y\n",
    "\n",
    "#        Distance     Distance\n",
    "#sno     of m1         of m2\n",
    "#-----------------------------\n",
    "#1        0       <     7.211\n",
    "#2       1.11     <     6.40\n",
    "#3       3.60     <=     3.60\n",
    "#4       7.21     >       0\n",
    "#5       4.71     >     2.5\n",
    "#6       5.31     >     2.06\n",
    "#7       4.30     >     2.91"
   ]
  },
  {
   "cell_type": "markdown",
   "id": "90f58130",
   "metadata": {},
   "source": [
    "- Step3: Calculate new cluster\n",
    "\n",
    "\n",
    "- Cluster1\n",
    "    - K1(X) = 1, 1.5, 3  and  K1(Y) = 1, 2, 4\n",
    "    - Find mean\n",
    "        - K1(X) = 1.8333 \n",
    "        - K1(Y) = 2.3333\n",
    "- Cluster2\n",
    "    - K2(X) = 5, 3.5, 4.5, 3.5 and K2(Y) = 7, 5, 5, 4.5\n",
    "    - find mean\n",
    "        - K2(X) = 4.125\n",
    "        - K2(Y) = 5.375"
   ]
  },
  {
   "cell_type": "code",
   "execution_count": 5,
   "id": "22f2747e",
   "metadata": {},
   "outputs": [
    {
     "data": {
      "text/plain": [
       "1.8333333333333333"
      ]
     },
     "execution_count": 5,
     "metadata": {},
     "output_type": "execute_result"
    }
   ],
   "source": [
    "(1 + 1.5 + 3)/3, (1 + 2 + 4)/3"
   ]
  },
  {
   "cell_type": "code",
   "execution_count": 8,
   "id": "18e25884",
   "metadata": {},
   "outputs": [
    {
     "data": {
      "text/plain": [
       "(4.125, 5.375)"
      ]
     },
     "execution_count": 8,
     "metadata": {},
     "output_type": "execute_result"
    }
   ],
   "source": [
    "(5 + 3.5 + 4.5 + 3.5)/4, (7 + 5 + 5+ 4.5)/4"
   ]
  },
  {
   "cell_type": "markdown",
   "id": "2b11af2a",
   "metadata": {},
   "source": [
    "**Updated K vales are**\n",
    "- m1 = (1.833,2.333), m2 = (4.125, 5.375)\n",
    "- Step5: Reapet the same process, until either mean values will be same or no changes in cluster X and Y"
   ]
  },
  {
   "cell_type": "code",
   "execution_count": null,
   "id": "26cccf14",
   "metadata": {},
   "outputs": [],
   "source": []
  }
 ],
 "metadata": {
  "kernelspec": {
   "display_name": "Python 3 (ipykernel)",
   "language": "python",
   "name": "python3"
  },
  "language_info": {
   "codemirror_mode": {
    "name": "ipython",
    "version": 3
   },
   "file_extension": ".py",
   "mimetype": "text/x-python",
   "name": "python",
   "nbconvert_exporter": "python",
   "pygments_lexer": "ipython3",
   "version": "3.9.7"
  }
 },
 "nbformat": 4,
 "nbformat_minor": 5
}
