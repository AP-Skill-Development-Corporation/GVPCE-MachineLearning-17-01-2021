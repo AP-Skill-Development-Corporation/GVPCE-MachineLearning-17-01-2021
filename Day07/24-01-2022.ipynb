{
 "cells": [
  {
   "cell_type": "markdown",
   "id": "72daff21",
   "metadata": {},
   "source": [
    "## Day Objective\n",
    "- Matplotlib Contin....\n",
    "- Seaborn"
   ]
  },
  {
   "cell_type": "code",
   "execution_count": 1,
   "id": "a597dc06",
   "metadata": {},
   "outputs": [],
   "source": [
    "import numpy as np\n",
    "import pandas as pd"
   ]
  },
  {
   "cell_type": "code",
   "execution_count": 2,
   "id": "fd38a0f6",
   "metadata": {},
   "outputs": [],
   "source": [
    "import matplotlib.pyplot as plt"
   ]
  },
  {
   "cell_type": "markdown",
   "id": "e9b39db1",
   "metadata": {},
   "source": [
    "**Line Plot**\n",
    "- plt.plot()"
   ]
  },
  {
   "cell_type": "code",
   "execution_count": 3,
   "id": "bbe27f42",
   "metadata": {
    "collapsed": true
   },
   "outputs": [
    {
     "data": {
      "text/plain": [
       "array([10.        , 10.40816327, 10.81632653, 11.2244898 , 11.63265306,\n",
       "       12.04081633, 12.44897959, 12.85714286, 13.26530612, 13.67346939,\n",
       "       14.08163265, 14.48979592, 14.89795918, 15.30612245, 15.71428571,\n",
       "       16.12244898, 16.53061224, 16.93877551, 17.34693878, 17.75510204,\n",
       "       18.16326531, 18.57142857, 18.97959184, 19.3877551 , 19.79591837,\n",
       "       20.20408163, 20.6122449 , 21.02040816, 21.42857143, 21.83673469,\n",
       "       22.24489796, 22.65306122, 23.06122449, 23.46938776, 23.87755102,\n",
       "       24.28571429, 24.69387755, 25.10204082, 25.51020408, 25.91836735,\n",
       "       26.32653061, 26.73469388, 27.14285714, 27.55102041, 27.95918367,\n",
       "       28.36734694, 28.7755102 , 29.18367347, 29.59183673, 30.        ])"
      ]
     },
     "execution_count": 3,
     "metadata": {},
     "output_type": "execute_result"
    }
   ],
   "source": [
    "x = np.linspace(10,30, 50)\n",
    "x"
   ]
  },
  {
   "cell_type": "code",
   "execution_count": 4,
   "id": "6d4964b5",
   "metadata": {
    "collapsed": true
   },
   "outputs": [
    {
     "data": {
      "text/plain": [
       "array([-0.54402111, -0.8323783 , -0.98397809, -0.97391306, -0.80383688,\n",
       "       -0.50169257, -0.11712159,  0.28669214,  0.64340315,  0.89440485,\n",
       "        0.99845837,  0.938468  ,  0.72428999,  0.39111319, -0.0063224 ,\n",
       "       -0.40271924, -0.73295045, -0.94275997, -0.9976767 , -0.88867797,\n",
       "       -0.63367196, -0.27455544,  0.12966975,  0.51259058,  0.81129422,\n",
       "        0.97670452,  0.98164503,  0.82530404,  0.53336793,  0.15380098,\n",
       "       -0.25103504, -0.61462671, -0.87723695, -0.99571964, -0.95060842,\n",
       "       -0.74931492, -0.4249111 , -0.03069559,  0.36856312,  0.70726795,\n",
       "        0.92977066,  0.99951468,  0.90504127,  0.66187214,  0.30995929,\n",
       "       -0.092879  , -0.48045753, -0.78909824, -0.96809235, -0.98803162])"
      ]
     },
     "execution_count": 4,
     "metadata": {},
     "output_type": "execute_result"
    }
   ],
   "source": [
    "np.sin(x)"
   ]
  },
  {
   "cell_type": "code",
   "execution_count": 7,
   "id": "a334fc38",
   "metadata": {
    "collapsed": true
   },
   "outputs": [
    {
     "name": "stdout",
     "output_type": "stream",
     "text": [
      "Help on function plot in module matplotlib.pyplot:\n",
      "\n",
      "plot(*args, scalex=True, scaley=True, data=None, **kwargs)\n",
      "    Plot y versus x as lines and/or markers.\n",
      "    \n",
      "    Call signatures::\n",
      "    \n",
      "        plot([x], y, [fmt], *, data=None, **kwargs)\n",
      "        plot([x], y, [fmt], [x2], y2, [fmt2], ..., **kwargs)\n",
      "    \n",
      "    The coordinates of the points or line nodes are given by *x*, *y*.\n",
      "    \n",
      "    The optional parameter *fmt* is a convenient way for defining basic\n",
      "    formatting like color, marker and linestyle. It's a shortcut string\n",
      "    notation described in the *Notes* section below.\n",
      "    \n",
      "    >>> plot(x, y)        # plot x and y using default line style and color\n",
      "    >>> plot(x, y, 'bo')  # plot x and y using blue circle markers\n",
      "    >>> plot(y)           # plot y using x as index array 0..N-1\n",
      "    >>> plot(y, 'r+')     # ditto, but with red plusses\n",
      "    \n",
      "    You can use `.Line2D` properties as keyword arguments for more\n",
      "    control on the appearance. Line properties and *fmt* can be mixed.\n",
      "    The following two calls yield identical results:\n",
      "    \n",
      "    >>> plot(x, y, 'go--', linewidth=2, markersize=12)\n",
      "    >>> plot(x, y, color='green', marker='o', linestyle='dashed',\n",
      "    ...      linewidth=2, markersize=12)\n",
      "    \n",
      "    When conflicting with *fmt*, keyword arguments take precedence.\n",
      "    \n",
      "    \n",
      "    **Plotting labelled data**\n",
      "    \n",
      "    There's a convenient way for plotting objects with labelled data (i.e.\n",
      "    data that can be accessed by index ``obj['y']``). Instead of giving\n",
      "    the data in *x* and *y*, you can provide the object in the *data*\n",
      "    parameter and just give the labels for *x* and *y*::\n",
      "    \n",
      "    >>> plot('xlabel', 'ylabel', data=obj)\n",
      "    \n",
      "    All indexable objects are supported. This could e.g. be a `dict`, a\n",
      "    `pandas.DataFrame` or a structured numpy array.\n",
      "    \n",
      "    \n",
      "    **Plotting multiple sets of data**\n",
      "    \n",
      "    There are various ways to plot multiple sets of data.\n",
      "    \n",
      "    - The most straight forward way is just to call `plot` multiple times.\n",
      "      Example:\n",
      "    \n",
      "      >>> plot(x1, y1, 'bo')\n",
      "      >>> plot(x2, y2, 'go')\n",
      "    \n",
      "    - If *x* and/or *y* are 2D arrays a separate data set will be drawn\n",
      "      for every column. If both *x* and *y* are 2D, they must have the\n",
      "      same shape. If only one of them is 2D with shape (N, m) the other\n",
      "      must have length N and will be used for every data set m.\n",
      "    \n",
      "      Example:\n",
      "    \n",
      "      >>> x = [1, 2, 3]\n",
      "      >>> y = np.array([[1, 2], [3, 4], [5, 6]])\n",
      "      >>> plot(x, y)\n",
      "    \n",
      "      is equivalent to:\n",
      "    \n",
      "      >>> for col in range(y.shape[1]):\n",
      "      ...     plot(x, y[:, col])\n",
      "    \n",
      "    - The third way is to specify multiple sets of *[x]*, *y*, *[fmt]*\n",
      "      groups::\n",
      "    \n",
      "      >>> plot(x1, y1, 'g^', x2, y2, 'g-')\n",
      "    \n",
      "      In this case, any additional keyword argument applies to all\n",
      "      datasets. Also this syntax cannot be combined with the *data*\n",
      "      parameter.\n",
      "    \n",
      "    By default, each line is assigned a different style specified by a\n",
      "    'style cycle'. The *fmt* and line property parameters are only\n",
      "    necessary if you want explicit deviations from these defaults.\n",
      "    Alternatively, you can also change the style cycle using\n",
      "    :rc:`axes.prop_cycle`.\n",
      "    \n",
      "    \n",
      "    Parameters\n",
      "    ----------\n",
      "    x, y : array-like or scalar\n",
      "        The horizontal / vertical coordinates of the data points.\n",
      "        *x* values are optional and default to ``range(len(y))``.\n",
      "    \n",
      "        Commonly, these parameters are 1D arrays.\n",
      "    \n",
      "        They can also be scalars, or two-dimensional (in that case, the\n",
      "        columns represent separate data sets).\n",
      "    \n",
      "        These arguments cannot be passed as keywords.\n",
      "    \n",
      "    fmt : str, optional\n",
      "        A format string, e.g. 'ro' for red circles. See the *Notes*\n",
      "        section for a full description of the format strings.\n",
      "    \n",
      "        Format strings are just an abbreviation for quickly setting\n",
      "        basic line properties. All of these and more can also be\n",
      "        controlled by keyword arguments.\n",
      "    \n",
      "        This argument cannot be passed as keyword.\n",
      "    \n",
      "    data : indexable object, optional\n",
      "        An object with labelled data. If given, provide the label names to\n",
      "        plot in *x* and *y*.\n",
      "    \n",
      "        .. note::\n",
      "            Technically there's a slight ambiguity in calls where the\n",
      "            second label is a valid *fmt*. ``plot('n', 'o', data=obj)``\n",
      "            could be ``plt(x, y)`` or ``plt(y, fmt)``. In such cases,\n",
      "            the former interpretation is chosen, but a warning is issued.\n",
      "            You may suppress the warning by adding an empty format string\n",
      "            ``plot('n', 'o', '', data=obj)``.\n",
      "    \n",
      "    Returns\n",
      "    -------\n",
      "    list of `.Line2D`\n",
      "        A list of lines representing the plotted data.\n",
      "    \n",
      "    Other Parameters\n",
      "    ----------------\n",
      "    scalex, scaley : bool, default: True\n",
      "        These parameters determine if the view limits are adapted to the\n",
      "        data limits. The values are passed on to `autoscale_view`.\n",
      "    \n",
      "    **kwargs : `.Line2D` properties, optional\n",
      "        *kwargs* are used to specify properties like a line label (for\n",
      "        auto legends), linewidth, antialiasing, marker face color.\n",
      "        Example::\n",
      "    \n",
      "        >>> plot([1, 2, 3], [1, 2, 3], 'go-', label='line 1', linewidth=2)\n",
      "        >>> plot([1, 2, 3], [1, 4, 9], 'rs', label='line 2')\n",
      "    \n",
      "        If you specify multiple lines with one plot call, the kwargs apply\n",
      "        to all those lines. In case the label object is iterable, each\n",
      "        element is used as labels for each set of data.\n",
      "    \n",
      "        Here is a list of available `.Line2D` properties:\n",
      "    \n",
      "        Properties:\n",
      "        agg_filter: a filter function, which takes a (m, n, 3) float array and a dpi value, and returns a (m, n, 3) array\n",
      "        alpha: scalar or None\n",
      "        animated: bool\n",
      "        antialiased or aa: bool\n",
      "        clip_box: `.Bbox`\n",
      "        clip_on: bool\n",
      "        clip_path: Patch or (Path, Transform) or None\n",
      "        color or c: color\n",
      "        contains: unknown\n",
      "        dash_capstyle: `.CapStyle` or {'butt', 'projecting', 'round'}\n",
      "        dash_joinstyle: `.JoinStyle` or {'miter', 'round', 'bevel'}\n",
      "        dashes: sequence of floats (on/off ink in points) or (None, None)\n",
      "        data: (2, N) array or two 1D arrays\n",
      "        drawstyle or ds: {'default', 'steps', 'steps-pre', 'steps-mid', 'steps-post'}, default: 'default'\n",
      "        figure: `.Figure`\n",
      "        fillstyle: {'full', 'left', 'right', 'bottom', 'top', 'none'}\n",
      "        gid: str\n",
      "        in_layout: bool\n",
      "        label: object\n",
      "        linestyle or ls: {'-', '--', '-.', ':', '', (offset, on-off-seq), ...}\n",
      "        linewidth or lw: float\n",
      "        marker: marker style string, `~.path.Path` or `~.markers.MarkerStyle`\n",
      "        markeredgecolor or mec: color\n",
      "        markeredgewidth or mew: float\n",
      "        markerfacecolor or mfc: color\n",
      "        markerfacecoloralt or mfcalt: color\n",
      "        markersize or ms: float\n",
      "        markevery: None or int or (int, int) or slice or list[int] or float or (float, float) or list[bool]\n",
      "        path_effects: `.AbstractPathEffect`\n",
      "        picker: float or callable[[Artist, Event], tuple[bool, dict]]\n",
      "        pickradius: float\n",
      "        rasterized: bool\n",
      "        sketch_params: (scale: float, length: float, randomness: float)\n",
      "        snap: bool or None\n",
      "        solid_capstyle: `.CapStyle` or {'butt', 'projecting', 'round'}\n",
      "        solid_joinstyle: `.JoinStyle` or {'miter', 'round', 'bevel'}\n",
      "        transform: `matplotlib.transforms.Transform`\n",
      "        url: str\n",
      "        visible: bool\n",
      "        xdata: 1D array\n",
      "        ydata: 1D array\n",
      "        zorder: float\n",
      "    \n",
      "    See Also\n",
      "    --------\n",
      "    scatter : XY scatter plot with markers of varying size and/or color (\n",
      "        sometimes also called bubble chart).\n",
      "    \n",
      "    Notes\n",
      "    -----\n",
      "    **Format Strings**\n",
      "    \n",
      "    A format string consists of a part for color, marker and line::\n",
      "    \n",
      "        fmt = '[marker][line][color]'\n",
      "    \n",
      "    Each of them is optional. If not provided, the value from the style\n",
      "    cycle is used. Exception: If ``line`` is given, but no ``marker``,\n",
      "    the data will be a line without markers.\n",
      "    \n",
      "    Other combinations such as ``[color][marker][line]`` are also\n",
      "    supported, but note that their parsing may be ambiguous.\n",
      "    \n",
      "    **Markers**\n",
      "    \n",
      "    =============   ===============================\n",
      "    character       description\n",
      "    =============   ===============================\n",
      "    ``'.'``         point marker\n",
      "    ``','``         pixel marker\n",
      "    ``'o'``         circle marker\n",
      "    ``'v'``         triangle_down marker\n",
      "    ``'^'``         triangle_up marker\n",
      "    ``'<'``         triangle_left marker\n",
      "    ``'>'``         triangle_right marker\n",
      "    ``'1'``         tri_down marker\n",
      "    ``'2'``         tri_up marker\n",
      "    ``'3'``         tri_left marker\n",
      "    ``'4'``         tri_right marker\n",
      "    ``'8'``         octagon marker\n",
      "    ``'s'``         square marker\n",
      "    ``'p'``         pentagon marker\n",
      "    ``'P'``         plus (filled) marker\n",
      "    ``'*'``         star marker\n",
      "    ``'h'``         hexagon1 marker\n",
      "    ``'H'``         hexagon2 marker\n",
      "    ``'+'``         plus marker\n",
      "    ``'x'``         x marker\n",
      "    ``'X'``         x (filled) marker\n",
      "    ``'D'``         diamond marker\n",
      "    ``'d'``         thin_diamond marker\n",
      "    ``'|'``         vline marker\n",
      "    ``'_'``         hline marker\n",
      "    =============   ===============================\n",
      "    \n",
      "    **Line Styles**\n",
      "    \n",
      "    =============    ===============================\n",
      "    character        description\n",
      "    =============    ===============================\n",
      "    ``'-'``          solid line style\n",
      "    ``'--'``         dashed line style\n",
      "    ``'-.'``         dash-dot line style\n",
      "    ``':'``          dotted line style\n",
      "    =============    ===============================\n",
      "    \n",
      "    Example format strings::\n",
      "    \n",
      "        'b'    # blue markers with default shape\n",
      "        'or'   # red circles\n",
      "        '-g'   # green solid line\n",
      "        '--'   # dashed line with default color\n",
      "        '^k:'  # black triangle_up markers connected by a dotted line\n",
      "    \n",
      "    **Colors**\n",
      "    \n",
      "    The supported color abbreviations are the single letter codes\n",
      "    \n",
      "    =============    ===============================\n",
      "    character        color\n",
      "    =============    ===============================\n",
      "    ``'b'``          blue\n",
      "    ``'g'``          green\n",
      "    ``'r'``          red\n",
      "    ``'c'``          cyan\n",
      "    ``'m'``          magenta\n",
      "    ``'y'``          yellow\n",
      "    ``'k'``          black\n",
      "    ``'w'``          white\n",
      "    =============    ===============================\n",
      "    \n",
      "    and the ``'CN'`` colors that index into the default property cycle.\n",
      "    \n",
      "    If the color is the only part of the format string, you can\n",
      "    additionally use any  `matplotlib.colors` spec, e.g. full names\n",
      "    (``'green'``) or hex strings (``'#008000'``).\n",
      "\n"
     ]
    }
   ],
   "source": [
    "help(plt.plot)"
   ]
  },
  {
   "cell_type": "code",
   "execution_count": 16,
   "id": "e2c2756b",
   "metadata": {
    "collapsed": true
   },
   "outputs": [
    {
     "data": {
      "text/plain": [
       "[<matplotlib.lines.Line2D at 0x19c2ff5ec70>]"
      ]
     },
     "execution_count": 16,
     "metadata": {},
     "output_type": "execute_result"
    },
    {
     "data": {
      "image/png": "[encoded data removed]",
      "text/plain": [
       "<Figure size 432x288 with 1 Axes>"
      ]
     },
     "metadata": {
      "needs_background": "light"
     },
     "output_type": "display_data"
    }
   ],
   "source": [
    "plt.plot(x, np.sin(x), color = 'green', marker = 'H', ms = 10, mfc = 'w')\n",
    "plt.plot(x, np.cos(x), color = 'purple', marker = 'd', ms = 10, mfc = 'gray')"
   ]
  },
  {
   "cell_type": "markdown",
   "id": "c7b78c08",
   "metadata": {},
   "source": [
    "**Scatter plot**\n",
    "- plt.scatter()"
   ]
  },
  {
   "cell_type": "code",
   "execution_count": 17,
   "id": "9e87d057",
   "metadata": {
    "collapsed": true
   },
   "outputs": [
    {
     "data": {
      "text/plain": [
       "<matplotlib.collections.PathCollection at 0x19c2ffcfeb0>"
      ]
     },
     "execution_count": 17,
     "metadata": {},
     "output_type": "execute_result"
    },
    {
     "data": {
      "image/png": "[encoded data removed]",
      "text/plain": [
       "<Figure size 432x288 with 1 Axes>"
      ]
     },
     "metadata": {
      "needs_background": "light"
     },
     "output_type": "display_data"
    }
   ],
   "source": [
    "plt.scatter([5], [10])\n",
    "#        (x-axis, y-axis)"
   ]
  },
  {
   "cell_type": "code",
   "execution_count": 18,
   "id": "2e332b1d",
   "metadata": {},
   "outputs": [],
   "source": [
    "x = np.random.randint(100, 1000, 100)\n",
    "y = np.random.randint(100, 2000, 100)"
   ]
  },
  {
   "cell_type": "code",
   "execution_count": 21,
   "id": "47c43708",
   "metadata": {
    "collapsed": true
   },
   "outputs": [
    {
     "data": {
      "text/plain": [
       "<matplotlib.collections.PathCollection at 0x19c300f4490>"
      ]
     },
     "execution_count": 21,
     "metadata": {},
     "output_type": "execute_result"
    },
    {
     "data": {
      "image/png": "[encoded data removed]",
      "text/plain": [
       "<Figure size 432x288 with 1 Axes>"
      ]
     },
     "metadata": {
      "needs_background": "light"
     },
     "output_type": "display_data"
    }
   ],
   "source": [
    "plt.scatter(x, y, color = 'pink', marker = 'v')"
   ]
  },
  {
   "cell_type": "markdown",
   "id": "2e0373e4",
   "metadata": {},
   "source": [
    "**Bar chart**\n",
    "- plt.bar()"
   ]
  },
  {
   "cell_type": "code",
   "execution_count": 29,
   "id": "9430d495",
   "metadata": {
    "collapsed": true
   },
   "outputs": [
    {
     "data": {
      "text/plain": [
       "Text(0, 0.5, 'Shares')"
      ]
     },
     "execution_count": 29,
     "metadata": {},
     "output_type": "execute_result"
    },
    {
     "data": {
      "image/png": "[encoded data removed]",
      "text/plain": [
       "<Figure size 432x288 with 1 Axes>"
      ]
     },
     "metadata": {
      "needs_background": "light"
     },
     "output_type": "display_data"
    }
   ],
   "source": [
    "year = ['2019 Nov', '2019 Dec', '2020 Feb', '2020 Aug', '2021 Jan', '2021 Oct','2021 Dec']\n",
    "stock_market = [10000, 10500, 5000, 4000, 8200, 9015, 10000]\n",
    "plt.bar(year, stock_market, color = 'g', label = 'Bar chart')\n",
    "plt.legend()\n",
    "plt.title('Stock Market Share value')\n",
    "plt.xlabel('Months')\n",
    "plt.ylabel('Shares')"
   ]
  },
  {
   "cell_type": "code",
   "execution_count": 27,
   "id": "93933a07",
   "metadata": {
    "collapsed": true
   },
   "outputs": [
    {
     "name": "stdout",
     "output_type": "stream",
     "text": [
      "Help on function bar in module matplotlib.pyplot:\n",
      "\n",
      "bar(x, height, width=0.8, bottom=None, *, align='center', data=None, **kwargs)\n",
      "    Make a bar plot.\n",
      "    \n",
      "    The bars are positioned at *x* with the given *align*\\ment. Their\n",
      "    dimensions are given by *height* and *width*. The vertical baseline\n",
      "    is *bottom* (default 0).\n",
      "    \n",
      "    Many parameters can take either a single value applying to all bars\n",
      "    or a sequence of values, one for each bar.\n",
      "    \n",
      "    Parameters\n",
      "    ----------\n",
      "    x : float or array-like\n",
      "        The x coordinates of the bars. See also *align* for the\n",
      "        alignment of the bars to the coordinates.\n",
      "    \n",
      "    height : float or array-like\n",
      "        The height(s) of the bars.\n",
      "    \n",
      "    width : float or array-like, default: 0.8\n",
      "        The width(s) of the bars.\n",
      "    \n",
      "    bottom : float or array-like, default: 0\n",
      "        The y coordinate(s) of the bars bases.\n",
      "    \n",
      "    align : {'center', 'edge'}, default: 'center'\n",
      "        Alignment of the bars to the *x* coordinates:\n",
      "    \n",
      "        - 'center': Center the base on the *x* positions.\n",
      "        - 'edge': Align the left edges of the bars with the *x* positions.\n",
      "    \n",
      "        To align the bars on the right edge pass a negative *width* and\n",
      "        ``align='edge'``.\n",
      "    \n",
      "    Returns\n",
      "    -------\n",
      "    `.BarContainer`\n",
      "        Container with all the bars and optionally errorbars.\n",
      "    \n",
      "    Other Parameters\n",
      "    ----------------\n",
      "    color : color or list of color, optional\n",
      "        The colors of the bar faces.\n",
      "    \n",
      "    edgecolor : color or list of color, optional\n",
      "        The colors of the bar edges.\n",
      "    \n",
      "    linewidth : float or array-like, optional\n",
      "        Width of the bar edge(s). If 0, don't draw edges.\n",
      "    \n",
      "    tick_label : str or list of str, optional\n",
      "        The tick labels of the bars.\n",
      "        Default: None (Use default numeric labels.)\n",
      "    \n",
      "    xerr, yerr : float or array-like of shape(N,) or shape(2, N), optional\n",
      "        If not *None*, add horizontal / vertical errorbars to the bar tips.\n",
      "        The values are +/- sizes relative to the data:\n",
      "    \n",
      "        - scalar: symmetric +/- values for all bars\n",
      "        - shape(N,): symmetric +/- values for each bar\n",
      "        - shape(2, N): Separate - and + values for each bar. First row\n",
      "          contains the lower errors, the second row contains the upper\n",
      "          errors.\n",
      "        - *None*: No errorbar. (Default)\n",
      "    \n",
      "        See :doc:`/gallery/statistics/errorbar_features`\n",
      "        for an example on the usage of ``xerr`` and ``yerr``.\n",
      "    \n",
      "    ecolor : color or list of color, default: 'black'\n",
      "        The line color of the errorbars.\n",
      "    \n",
      "    capsize : float, default: :rc:`errorbar.capsize`\n",
      "       The length of the error bar caps in points.\n",
      "    \n",
      "    error_kw : dict, optional\n",
      "        Dictionary of kwargs to be passed to the `~.Axes.errorbar`\n",
      "        method. Values of *ecolor* or *capsize* defined here take\n",
      "        precedence over the independent kwargs.\n",
      "    \n",
      "    log : bool, default: False\n",
      "        If *True*, set the y-axis to be log scale.\n",
      "    \n",
      "    **kwargs : `.Rectangle` properties\n",
      "    \n",
      "    Properties:\n",
      "        agg_filter: a filter function, which takes a (m, n, 3) float array and a dpi value, and returns a (m, n, 3) array\n",
      "        alpha: scalar or None\n",
      "        animated: bool\n",
      "        antialiased or aa: unknown\n",
      "        capstyle: `.CapStyle` or {'butt', 'projecting', 'round'}\n",
      "        clip_box: `.Bbox`\n",
      "        clip_on: bool\n",
      "        clip_path: Patch or (Path, Transform) or None\n",
      "        color: color\n",
      "        contains: unknown\n",
      "        edgecolor or ec: color or None or 'auto'\n",
      "        facecolor or fc: color or None\n",
      "        figure: `.Figure`\n",
      "        fill: bool\n",
      "        gid: str\n",
      "        hatch: {'/', '\\\\', '|', '-', '+', 'x', 'o', 'O', '.', '*'}\n",
      "        in_layout: bool\n",
      "        joinstyle: `.JoinStyle` or {'miter', 'round', 'bevel'}\n",
      "        label: object\n",
      "        linestyle or ls: {'-', '--', '-.', ':', '', (offset, on-off-seq), ...}\n",
      "        linewidth or lw: float or None\n",
      "        path_effects: `.AbstractPathEffect`\n",
      "        picker: None or bool or float or callable\n",
      "        rasterized: bool\n",
      "        sketch_params: (scale: float, length: float, randomness: float)\n",
      "        snap: bool or None\n",
      "        transform: `.Transform`\n",
      "        url: str\n",
      "        visible: bool\n",
      "        zorder: float\n",
      "    \n",
      "    See Also\n",
      "    --------\n",
      "    barh : Plot a horizontal bar plot.\n",
      "    \n",
      "    Notes\n",
      "    -----\n",
      "    Stacked bars can be achieved by passing individual *bottom* values per\n",
      "    bar. See :doc:`/gallery/lines_bars_and_markers/bar_stacked`.\n",
      "    \n",
      "    .. note::\n",
      "        In addition to the above described arguments, this function can take\n",
      "        a *data* keyword argument. If such a *data* argument is given,\n",
      "        every other argument can also be string ``s``, which is\n",
      "        interpreted as ``data[s]`` (unless this raises an exception).\n",
      "    \n",
      "        Objects passed as **data** must support item access (``data[s]``) and\n",
      "        membership test (``s in data``).\n",
      "\n"
     ]
    }
   ],
   "source": [
    "help(plt.bar)"
   ]
  },
  {
   "cell_type": "code",
   "execution_count": 26,
   "id": "4e28a951",
   "metadata": {
    "collapsed": true
   },
   "outputs": [
    {
     "data": {
      "text/plain": [
       "<BarContainer object of 7 artists>"
      ]
     },
     "execution_count": 26,
     "metadata": {},
     "output_type": "execute_result"
    },
    {
     "data": {
      "image/png": "[encoded data removed]",
      "text/plain": [
       "<Figure size 432x288 with 1 Axes>"
      ]
     },
     "metadata": {
      "needs_background": "light"
     },
     "output_type": "display_data"
    }
   ],
   "source": [
    "plt.bar(year, stock_market, color = ['c','g','m','pink','r','gray','b'])"
   ]
  },
  {
   "cell_type": "markdown",
   "id": "2c421a25",
   "metadata": {},
   "source": [
    "**Boxplot**: It gives summary of numerical data\n",
    "- min\n",
    "- Inter Quartile Range(IQR)\n",
    "    - lower quartile(Q1-25%)\n",
    "    - median (Q2-50%) \n",
    "    - upper quartile (Q3-75%)\n",
    "- max\n",
    "\n",
    "\n",
    "plt.boxplot()"
   ]
  },
  {
   "cell_type": "code",
   "execution_count": 30,
   "id": "23631764",
   "metadata": {
    "collapsed": true
   },
   "outputs": [
    {
     "data": {
      "text/plain": [
       "array([ 8232,  6997,  3518, 15298, 19858,  8035,  8927,  7593,  5161,\n",
       "        6736,  3289,  5180,  9759,  3923, 18607, 12548, 15320, 19249,\n",
       "       11115, 19528,  9497,  4997, 15033,  6923, 18446, 14165, 19692,\n",
       "       10890,  9307,  7328,  2832, 16178,  3230, 15332, 10679,  5520,\n",
       "       10882,  9690,  9617,  5212, 11514,  3857, 14780,  6877, 15707,\n",
       "       12547,  7027, 11034,  7774, 15013,  8424, 19044, 13234,  8640,\n",
       "        7861,  6655, 17350,  3539,  2327, 18191, 18333, 12887,  7401,\n",
       "        6775, 13752, 16319,  6435,  9232,  2566,  4050,  3507, 17405,\n",
       "       10545,  3242, 17040, 13693, 15693,  5956,  4418, 18801, 11753,\n",
       "        6790, 10113,  8905, 19630, 19550,  6365,  6095, 11970,  3976,\n",
       "       19759,  4735,  4562,  4428, 18494, 13271,  5511,  9692, 14233,\n",
       "        6726, 19356, 15386, 10586,  7764, 10995,  7323,  6429, 17499,\n",
       "       16403,  4088, 18899, 13163, 11690, 13781, 12792,  8986,  3048,\n",
       "       11340, 15961,  9483,  8070, 13427, 15521, 15801, 18068,  8841,\n",
       "       18942, 13564, 13365, 15949, 19440,  4116, 13468,  2860, 16792,\n",
       "        4103, 11888, 19515, 10387,  6709, 11995,  4890, 14504, 15704,\n",
       "       14681, 16566,  4447,  2060,  2727,  7420,  5801, 15607,  2156,\n",
       "       12667,  4561, 15624,  4497,  2458, 18742,  9584,  2444, 13545,\n",
       "       11351,  8955,  2969, 10858, 19264, 17145,  9732, 14931,  5388,\n",
       "        9236, 15296,  4310, 10899,  4009,  3497, 17439, 19827, 12268,\n",
       "       14670,  6525,  7823,  7493,  7352,  2000, 14820, 10041, 10998,\n",
       "       11014, 18293, 11079, 15380,  4646,  8386, 10797, 16387,  2913,\n",
       "        8824, 19484, 14384, 10327, 16235, 18619, 13855,  2724,  4625,\n",
       "        9905,  8898,  8743,  6667, 13353,  2147, 19684,  6323, 10285,\n",
       "       17828,  8646, 12649, 12033, 15419, 12997, 10185,  2908, 14221,\n",
       "        8485,  5374,  4904, 15668, 11295, 18711,  9498, 19686,  9424,\n",
       "        2327, 15266, 12548, 17950, 18548,  6997, 12693,  6346,  2313,\n",
       "        7513,  7905,  7716,  9765,  4410,  6353, 15510, 12049, 13940,\n",
       "        8280, 12692, 14509, 19714, 12343, 15085,  4406, 19665,  9172,\n",
       "       15487,  8732, 16125, 16854,  7369, 13283,  5589,  8376, 18581,\n",
       "        3768, 14583, 19638,  2169,  4492, 12539,  4623, 19219, 19295,\n",
       "       13839, 11794,  3900,  5249, 10817,  2225, 12369,  7975,  6463,\n",
       "       11214,  2369,  2350,  7738,  8878, 16823, 11192, 14279, 11062,\n",
       "       14143,  4528, 12297, 19059,  3880, 12486,  3264, 18506, 15945,\n",
       "       19328,  4237, 18963,  4446,  5218,  8622,  7678,  5326, 13815,\n",
       "       15809, 13303,  6537, 17020, 13765,  4963,  5861, 19173,  6362,\n",
       "        6442, 15644, 19784,  5785,  7129, 18940, 14078, 19883, 15707,\n",
       "        3296, 11338,  9772, 12009, 18569,  8878, 10020,  7599,  2750,\n",
       "        9841,  9177,  8540, 16029, 11262, 10332,  7926,  6306,  6838,\n",
       "       16430, 13833,  6290,  6478,  5087,  2899, 15021,  4339,  2594,\n",
       "       19676, 11248, 16686, 10264, 16317,  8208, 18120,  9155, 16478,\n",
       "        9114, 11596, 11696,  5954, 19379,  4765, 19497, 12362, 10920,\n",
       "       19781,  7326, 11015, 14052,  7358, 14855, 12744, 17531,  9185,\n",
       "       16576, 10308,  5317, 13402, 11747,  3239, 13097,  3830,  5911,\n",
       "        2913, 14093, 12555,  7260, 16287, 13563, 18391,  4479,  9110,\n",
       "        5419, 10884, 10908,  8707,  9842, 13238, 14612,  5342,  5353,\n",
       "        7810, 15008,  6681,  6952,  8500,  3758, 18668,  8430,  9104,\n",
       "        4795, 17086, 19516, 10665,  9348, 17595,  8051, 16556, 13816,\n",
       "        9929, 15274,  9877, 17886,  5564,  9405,  5542, 14503, 18790,\n",
       "        3693, 15331, 13051,  8445,  9488, 12676,  5116, 12453,  3687,\n",
       "        7556,  7664,  5217,  4413,  8292,  5400, 12748, 14848,  2437,\n",
       "       11018, 10766, 11517, 12746,  5396,  6295, 19928, 18517, 11512,\n",
       "       13713,  6479, 13972,  9312, 17480, 11614, 18784,  8628, 17919,\n",
       "        9355, 16919,  6098, 19512, 14245,  3453,  7805, 13543, 14184,\n",
       "       13473,  6890,  5369,  9906,  4177, 16384, 13836,  5278, 18585,\n",
       "        2780,  7769,  7224, 15645,  2931,  9996,  9426, 17943,  4454,\n",
       "       19011,  2445,  8006,  2408, 12572, 19543,  4174, 13633, 17530,\n",
       "        7510,  2678, 19000, 19444, 19751,  2334,  9857,  3231, 10192,\n",
       "       19121, 16889, 10218,  9579,  5046,  4531,  4929, 13836, 17322,\n",
       "        2474,  2815,  9170, 11198, 18832,  2610, 11272,  7333, 15641,\n",
       "       10790, 17888,  3290,  9164,  7815,  2065, 10356, 10533, 12518,\n",
       "       17670, 10779,  4871,  6277,  5813,  7818,  8448, 17368, 19595,\n",
       "       13310,  4029,  2764,  9993,  4964, 12335, 14999, 12395,  3212,\n",
       "       16653, 11483,  9044, 11741,  6792, 12946,  4554,  9641, 19128,\n",
       "        3125, 18709, 12496, 19754,  3722, 18874, 16648, 14177, 11651,\n",
       "       18572, 14188, 12414,  7852, 10038,  2230, 17877, 13724, 15732,\n",
       "        7579, 17778,  6643,  4719, 14194,  6729, 11117, 15769, 19114,\n",
       "       16484, 16943,  2009, 19842,  7224, 19702, 11012, 18311, 15959,\n",
       "        5134, 10391, 16982,  6038,  2263, 14118, 12601, 19017,  6874,\n",
       "        5559,  2686, 13857, 18078,  3374, 13888,  3187, 17591, 19186,\n",
       "       10569,  9433, 15395, 18248, 16933,  6444,  2234,  9882,  4328,\n",
       "       12162, 14106, 15510,  3844, 17165,  3273, 18202,  3493, 14261,\n",
       "       18048, 12934, 11340, 12409,  4205,  8913,  3418,  3830,  4694,\n",
       "       19045,  4949,  4393, 15215, 11423, 18624,  4150,  2845, 16439,\n",
       "       16051,  6776, 13227,  7072,  2797,  5667,  6185, 12251, 14424,\n",
       "       19152,  7518, 16304,  5158,  7794,  3853,  6510,  4186,  8143,\n",
       "        9981, 16632,  5499,  9669,  3604,  2430, 10207, 15840,  8498,\n",
       "       10973,  3100, 16258,  7183, 16356,  2892, 14490, 16501,  5587,\n",
       "       19338, 10511, 12300,  3983, 15358, 10018,  6104, 15210, 12376,\n",
       "       11783,  2602,  7704,  3905, 10491,  8670,  5521,  5376,  9346,\n",
       "       16639,  4864, 13060,  4244,  8103,  3198, 16454,  2649, 12164,\n",
       "       14299, 12284, 10449,  6049, 10323, 18528, 14478,  6652, 12571,\n",
       "       18387, 19052, 19551, 13330, 18788,  2088, 10529,  6659,  7296,\n",
       "       13095, 14699, 14506, 15687, 10895,  5903, 14888, 17625,  9866,\n",
       "        8958, 14375, 19643, 13208,  4684,  3040, 12290, 11357,  2223,\n",
       "       19203, 12374, 15491,  8105,  5301, 16059, 12311, 15443, 10513,\n",
       "       15523,  6352,  2156,  5897, 17490,  8035, 13832, 14334,  7488,\n",
       "        2391,  7703, 15823,  7182,  3206, 11894, 15057,  7561,  3149,\n",
       "       10876, 11932, 11641,  4285,  9272,  5564, 11103,  9100, 14153,\n",
       "        3633, 19363,  3006,  9726, 19687, 14857, 10549, 13887, 13757,\n",
       "        3386, 10608,  3233, 11107, 17034, 19840, 18935, 14693,  4628,\n",
       "        9544,  5116, 16496,  8130,  5932, 10094, 16131,  4526, 18959,\n",
       "       12355,  6328, 11024, 10030, 18403, 14761,  6463,  4567,  6292,\n",
       "       16062, 11503, 11972,  3762,  6285, 19291, 12816, 11590,  6597,\n",
       "        8718,  8246,  4598, 16394, 18531,  8014, 11856,  6942,  3610,\n",
       "        4957, 17657, 16200,  3175, 18770,  4254,  8932, 14763,  7607,\n",
       "        4838, 12708, 13714,  5539, 13301,  4962,  9054,  7969, 18344,\n",
       "       13002,  2224,  7170, 11106,  8103,  7922, 17297, 11834,  7652,\n",
       "       18393, 16390, 15346, 19946, 11672, 10973,  9323, 15101, 17365,\n",
       "        9877, 17189, 10676, 15430, 10232,  3430,  7895, 17548,  3029,\n",
       "       13033,  2620,  4559,  9009,  6575, 15822,  8542,  2785, 18660,\n",
       "       12148,  8442, 16103, 15107, 18032, 16599,  7249,  7988, 17788,\n",
       "       11579, 10934, 11294, 16764,  7986, 19628, 11382, 19394,  8609,\n",
       "       14323,  2982,  5766,  6808, 10678, 12014, 16235, 18717, 18126,\n",
       "        7020, 13679,  7854, 12458, 12605,  9347, 12848, 18617,  8245,\n",
       "        8269,  4331,  5592, 18559,  2095, 16309,  9276, 19803,  8763,\n",
       "       13964, 18868,  9966, 16204,  2489, 13711,  4447, 10323, 12441,\n",
       "        5609, 16075, 14378,  3263, 10154,  9065, 10154,  7530,  3802,\n",
       "        6018,  8097,  7104, 18809, 18600, 16886,  9066,  5514,  2853,\n",
       "       10700,  3811,  6429,  5228,  6090, 18909,  4198,  6334, 18748,\n",
       "       13969,  9053,  6832,  9928,  6810, 18147, 10533,  6755,  9906,\n",
       "        9669])"
      ]
     },
     "execution_count": 30,
     "metadata": {},
     "output_type": "execute_result"
    }
   ],
   "source": [
    "x1 = np.random.randint(2000, 20000, 1000)\n",
    "x1"
   ]
  },
  {
   "cell_type": "code",
   "execution_count": 33,
   "id": "6668f79f",
   "metadata": {
    "collapsed": true
   },
   "outputs": [
    {
     "data": {
      "image/png": "[encoded data removed]",
      "text/plain": [
       "<Figure size 432x288 with 1 Axes>"
      ]
     },
     "metadata": {
      "needs_background": "light"
     },
     "output_type": "display_data"
    }
   ],
   "source": [
    "plt.boxplot(x1)\n",
    "plt.xlabel('X Axis')\n",
    "plt.show()"
   ]
  },
  {
   "cell_type": "markdown",
   "id": "4d69dc24",
   "metadata": {},
   "source": [
    "**Histogram**\n",
    "- Frequency distribution of numerical data\n",
    "- plt.hist()"
   ]
  },
  {
   "cell_type": "code",
   "execution_count": 37,
   "id": "bbcc6068",
   "metadata": {
    "collapsed": true
   },
   "outputs": [
    {
     "data": {
      "text/plain": [
       "(array([5., 6., 5., 5.]),\n",
       " array([0.   , 1.375, 2.75 , 4.125, 5.5  ]),\n",
       " <BarContainer object of 4 artists>)"
      ]
     },
     "execution_count": 37,
     "metadata": {},
     "output_type": "execute_result"
    },
    {
     "data": {
      "image/png": "[encoded data removed]",
      "text/plain": [
       "<Figure size 432x288 with 1 Axes>"
      ]
     },
     "metadata": {
      "needs_background": "light"
     },
     "output_type": "display_data"
    }
   ],
   "source": [
    "h1 = [0, 0, 0.2, 0.4, 1.3, 1.5, 1.5, 1.9, 1.9, 2.1, 2.2, 3, 3.5, 3.5, 4.0, 4.1, 4.4, 4.5, 5.4, 5.5, 5.5]\n",
    "bins = 4\n",
    "plt.hist(h1, bins, rwidth = 0.5, color = 'c')"
   ]
  },
  {
   "cell_type": "markdown",
   "id": "ac62d51e",
   "metadata": {},
   "source": [
    "**Pie Plot**\n",
    "- plt.pie()"
   ]
  },
  {
   "cell_type": "code",
   "execution_count": 51,
   "id": "8cb8aced",
   "metadata": {},
   "outputs": [
    {
     "data": {
      "image/png": "[encoded data removed]",
      "text/plain": [
       "<Figure size 432x288 with 1 Axes>"
      ]
     },
     "metadata": {},
     "output_type": "display_data"
    }
   ],
   "source": [
    "apps = ['Amazon', 'Youtube', 'Quora', 'Ludo']\n",
    "users = [10000,100000,50000,20000]\n",
    "plt.pie(users, labels = apps, colors = ['r','m','g','pink'], autopct = '%1.2f%%', \n",
    "        explode = (0, 0, 0, 0.2), shadow = True)\n",
    "plt.show()"
   ]
  },
  {
   "cell_type": "markdown",
   "id": "30337734",
   "metadata": {},
   "source": [
    "### Seaborn\n",
    "- Seaborn is a python library which contains rich visual methods\n",
    "- It provides high-level interface for attractive and informative statistical plots.\n",
    "- It is an extension of matplotlib for creating beautiful and attractive plots, graphs, figures.\n",
    "- https://seaborn.pydata.org/"
   ]
  },
  {
   "cell_type": "code",
   "execution_count": 52,
   "id": "8e48a032",
   "metadata": {},
   "outputs": [],
   "source": [
    "import seaborn as sns"
   ]
  },
  {
   "cell_type": "code",
   "execution_count": 53,
   "id": "1f0932e7",
   "metadata": {},
   "outputs": [
    {
     "data": {
      "text/plain": [
       "'0.11.2'"
      ]
     },
     "execution_count": 53,
     "metadata": {},
     "output_type": "execute_result"
    }
   ],
   "source": [
    "sns.__version__"
   ]
  },
  {
   "cell_type": "code",
   "execution_count": 54,
   "id": "8afe9aa0",
   "metadata": {
    "collapsed": true
   },
   "outputs": [
    {
     "name": "stdout",
     "output_type": "stream",
     "text": [
      "['FacetGrid', 'JointGrid', 'PairGrid', '__builtins__', '__cached__', '__doc__', '__file__', '__loader__', '__name__', '__package__', '__path__', '__spec__', '__version__', '_core', '_decorators', '_docstrings', '_orig_rc_params', '_statistics', 'algorithms', 'axes_style', 'axisgrid', 'barplot', 'blend_palette', 'boxenplot', 'boxplot', 'categorical', 'catplot', 'choose_colorbrewer_palette', 'choose_cubehelix_palette', 'choose_dark_palette', 'choose_diverging_palette', 'choose_light_palette', 'clustermap', 'cm', 'color_palette', 'colors', 'countplot', 'crayon_palette', 'crayons', 'cubehelix_palette', 'dark_palette', 'desaturate', 'despine', 'displot', 'distplot', 'distributions', 'diverging_palette', 'dogplot', 'ecdfplot', 'external', 'factorplot', 'get_data_home', 'get_dataset_names', 'heatmap', 'histplot', 'hls_palette', 'husl_palette', 'jointplot', 'kdeplot', 'light_palette', 'lineplot', 'lmplot', 'load_dataset', 'matrix', 'miscplot', 'move_legend', 'mpl', 'mpl_palette', 'pairplot', 'palettes', 'palplot', 'plotting_context', 'pointplot', 'rcmod', 'regplot', 'regression', 'relational', 'relplot', 'reset_defaults', 'reset_orig', 'residplot', 'rugplot', 'saturate', 'scatterplot', 'set', 'set_color_codes', 'set_context', 'set_hls_values', 'set_palette', 'set_style', 'set_theme', 'stripplot', 'swarmplot', 'utils', 'violinplot', 'widgets', 'xkcd_palette', 'xkcd_rgb']\n"
     ]
    }
   ],
   "source": [
    "print(dir(sns))"
   ]
  },
  {
   "cell_type": "markdown",
   "id": "37f4f959",
   "metadata": {},
   "source": [
    "#### Different types of Plots\n",
    "- Color Palettes\n",
    "- Categorical Data\n",
    "- Joint plot\n",
    "- Pair plot\n",
    "- Heat maps\n",
    "- etc,..."
   ]
  },
  {
   "cell_type": "markdown",
   "id": "c64f99c7",
   "metadata": {},
   "source": [
    "**Color Palette**\n",
    "- Palette interface is used to generate diff color shades.\n",
    "    - Qualitative\n",
    "        - deep, muted, bright, pastel, dark, colorblind\n",
    "    - Sequential\n",
    "    - Diverging"
   ]
  },
  {
   "cell_type": "code",
   "execution_count": 57,
   "id": "9629ae7b",
   "metadata": {
    "collapsed": true
   },
   "outputs": [
    {
     "name": "stdout",
     "output_type": "stream",
     "text": [
      "Help on function color_palette in module seaborn.palettes:\n",
      "\n",
      "color_palette(palette=None, n_colors=None, desat=None, as_cmap=False)\n",
      "    Return a list of colors or continuous colormap defining a palette.\n",
      "    \n",
      "    Possible ``palette`` values include:\n",
      "        - Name of a seaborn palette (deep, muted, bright, pastel, dark, colorblind)\n",
      "        - Name of matplotlib colormap\n",
      "        - 'husl' or 'hls'\n",
      "        - 'ch:<cubehelix arguments>'\n",
      "        - 'light:<color>', 'dark:<color>', 'blend:<color>,<color>',\n",
      "        - A sequence of colors in any format matplotlib accepts\n",
      "    \n",
      "    Calling this function with ``palette=None`` will return the current\n",
      "    matplotlib color cycle.\n",
      "    \n",
      "    This function can also be used in a ``with`` statement to temporarily\n",
      "    set the color cycle for a plot or set of plots.\n",
      "    \n",
      "    See the :ref:`tutorial <palette_tutorial>` for more information.\n",
      "    \n",
      "    Parameters\n",
      "    ----------\n",
      "    palette : None, string, or sequence, optional\n",
      "        Name of palette or None to return current palette. If a sequence, input\n",
      "        colors are used but possibly cycled and desaturated.\n",
      "    n_colors : int, optional\n",
      "        Number of colors in the palette. If ``None``, the default will depend\n",
      "        on how ``palette`` is specified. Named palettes default to 6 colors,\n",
      "        but grabbing the current palette or passing in a list of colors will\n",
      "        not change the number of colors unless this is specified. Asking for\n",
      "        more colors than exist in the palette will cause it to cycle. Ignored\n",
      "        when ``as_cmap`` is True.\n",
      "    desat : float, optional\n",
      "        Proportion to desaturate each color by.\n",
      "    as_cmap : bool\n",
      "        If True, return a :class:`matplotlib.colors.Colormap`.\n",
      "    \n",
      "    Returns\n",
      "    -------\n",
      "    list of RGB tuples or :class:`matplotlib.colors.Colormap`\n",
      "    \n",
      "    See Also\n",
      "    --------\n",
      "    set_palette : Set the default color cycle for all plots.\n",
      "    set_color_codes : Reassign color codes like ``\"b\"``, ``\"g\"``, etc. to\n",
      "                      colors from one of the seaborn palettes.\n",
      "    \n",
      "    Examples\n",
      "    --------\n",
      "    \n",
      "    .. include:: ../docstrings/color_palette.rst\n",
      "\n"
     ]
    }
   ],
   "source": [
    "help(sns.color_palette)"
   ]
  },
  {
   "cell_type": "code",
   "execution_count": 58,
   "id": "382ecd7b",
   "metadata": {
    "collapsed": true
   },
   "outputs": [
    {
     "data": {
      "text/html": [
       "<svg  width=\"550\" height=\"55\"><rect x=\"0\" y=\"0\" width=\"55\" height=\"55\" style=\"fill:#1f77b4;stroke-width:2;stroke:rgb(255,255,255)\"/><rect x=\"55\" y=\"0\" width=\"55\" height=\"55\" style=\"fill:#ff7f0e;stroke-width:2;stroke:rgb(255,255,255)\"/><rect x=\"110\" y=\"0\" width=\"55\" height=\"55\" style=\"fill:#2ca02c;stroke-width:2;stroke:rgb(255,255,255)\"/><rect x=\"165\" y=\"0\" width=\"55\" height=\"55\" style=\"fill:#d62728;stroke-width:2;stroke:rgb(255,255,255)\"/><rect x=\"220\" y=\"0\" width=\"55\" height=\"55\" style=\"fill:#9467bd;stroke-width:2;stroke:rgb(255,255,255)\"/><rect x=\"275\" y=\"0\" width=\"55\" height=\"55\" style=\"fill:#8c564b;stroke-width:2;stroke:rgb(255,255,255)\"/><rect x=\"330\" y=\"0\" width=\"55\" height=\"55\" style=\"fill:#e377c2;stroke-width:2;stroke:rgb(255,255,255)\"/><rect x=\"385\" y=\"0\" width=\"55\" height=\"55\" style=\"fill:#7f7f7f;stroke-width:2;stroke:rgb(255,255,255)\"/><rect x=\"440\" y=\"0\" width=\"55\" height=\"55\" style=\"fill:#bcbd22;stroke-width:2;stroke:rgb(255,255,255)\"/><rect x=\"495\" y=\"0\" width=\"55\" height=\"55\" style=\"fill:#17becf;stroke-width:2;stroke:rgb(255,255,255)\"/></svg>"
      ],
      "text/plain": [
       "[(0.12156862745098039, 0.4666666666666667, 0.7058823529411765),\n",
       " (1.0, 0.4980392156862745, 0.054901960784313725),\n",
       " (0.17254901960784313, 0.6274509803921569, 0.17254901960784313),\n",
       " (0.8392156862745098, 0.15294117647058825, 0.1568627450980392),\n",
       " (0.5803921568627451, 0.403921568627451, 0.7411764705882353),\n",
       " (0.5490196078431373, 0.33725490196078434, 0.29411764705882354),\n",
       " (0.8901960784313725, 0.4666666666666667, 0.7607843137254902),\n",
       " (0.4980392156862745, 0.4980392156862745, 0.4980392156862745),\n",
       " (0.7372549019607844, 0.7411764705882353, 0.13333333333333333),\n",
       " (0.09019607843137255, 0.7450980392156863, 0.8117647058823529)]"
      ]
     },
     "execution_count": 58,
     "metadata": {},
     "output_type": "execute_result"
    }
   ],
   "source": [
    "sns.color_palette()"
   ]
  },
  {
   "cell_type": "code",
   "execution_count": 59,
   "id": "a82c1e0a",
   "metadata": {
    "collapsed": true
   },
   "outputs": [
    {
     "data": {
      "image/png": "[encoded data removed]",
      "text/plain": [
       "<Figure size 720x72 with 1 Axes>"
      ]
     },
     "metadata": {
      "needs_background": "light"
     },
     "output_type": "display_data"
    }
   ],
   "source": [
    "sns.palplot(sns.color_palette())"
   ]
  },
  {
   "cell_type": "code",
   "execution_count": 62,
   "id": "11e8f8fe",
   "metadata": {
    "collapsed": true
   },
   "outputs": [
    {
     "data": {
      "image/png": "[encoded data removed]",
      "text/plain": [
       "<Figure size 720x72 with 1 Axes>"
      ]
     },
     "metadata": {
      "needs_background": "light"
     },
     "output_type": "display_data"
    }
   ],
   "source": [
    "## 1. Qualitative: Palette contains multiple colors\n",
    "sns.palplot(sns.color_palette('pastel'))"
   ]
  },
  {
   "cell_type": "code",
   "execution_count": 63,
   "id": "10b66fb8",
   "metadata": {
    "collapsed": true
   },
   "outputs": [
    {
     "data": {
      "image/png": "[encoded data removed]",
      "text/plain": [
       "<Figure size 432x72 with 1 Axes>"
      ]
     },
     "metadata": {
      "needs_background": "light"
     },
     "output_type": "display_data"
    }
   ],
   "source": [
    "## 2. Sequential: palette contains only one color with diff shades\n",
    "sns.palplot(sns.color_palette('Greens'))"
   ]
  },
  {
   "cell_type": "code",
   "execution_count": 65,
   "id": "e3dd2197",
   "metadata": {
    "collapsed": true
   },
   "outputs": [
    {
     "data": {
      "text/html": [
       "<svg  width=\"330\" height=\"55\"><rect x=\"0\" y=\"0\" width=\"55\" height=\"55\" style=\"fill:#e1f3dc;stroke-width:2;stroke:rgb(255,255,255)\"/><rect x=\"55\" y=\"0\" width=\"55\" height=\"55\" style=\"fill:#bce4b5;stroke-width:2;stroke:rgb(255,255,255)\"/><rect x=\"110\" y=\"0\" width=\"55\" height=\"55\" style=\"fill:#8ed08b;stroke-width:2;stroke:rgb(255,255,255)\"/><rect x=\"165\" y=\"0\" width=\"55\" height=\"55\" style=\"fill:#56b567;stroke-width:2;stroke:rgb(255,255,255)\"/><rect x=\"220\" y=\"0\" width=\"55\" height=\"55\" style=\"fill:#2c944c;stroke-width:2;stroke:rgb(255,255,255)\"/><rect x=\"275\" y=\"0\" width=\"55\" height=\"55\" style=\"fill:#05712f;stroke-width:2;stroke:rgb(255,255,255)\"/></svg>"
      ],
      "text/plain": [
       "[(0.8828143021914648, 0.9546943483275664, 0.8621914648212226),\n",
       " (0.7371472510572856, 0.895517108804306, 0.7108342945021145),\n",
       " (0.5573241061130334, 0.8164244521337947, 0.546958861976163),\n",
       " (0.3388235294117647, 0.7117262591311034, 0.40584390618992694),\n",
       " (0.17139561707035755, 0.581514801999231, 0.2979008073817762),\n",
       " (0.017762399077277974, 0.44267589388696654, 0.18523644752018453)]"
      ]
     },
     "execution_count": 65,
     "metadata": {},
     "output_type": "execute_result"
    }
   ],
   "source": [
    "sns.color_palette('Greens')"
   ]
  },
  {
   "cell_type": "code",
   "execution_count": 64,
   "id": "674c07cb",
   "metadata": {
    "collapsed": true
   },
   "outputs": [
    {
     "data": {
      "image/png": "[encoded data removed]",
      "text/plain": [
       "<Figure size 432x72 with 1 Axes>"
      ]
     },
     "metadata": {
      "needs_background": "light"
     },
     "output_type": "display_data"
    }
   ],
   "source": [
    "sns.palplot(sns.color_palette('Blues'))"
   ]
  },
  {
   "cell_type": "code",
   "execution_count": 66,
   "id": "9f352dc7",
   "metadata": {},
   "outputs": [
    {
     "data": {
      "image/png": "[encoded data removed]",
      "text/plain": [
       "<Figure size 432x72 with 1 Axes>"
      ]
     },
     "metadata": {
      "needs_background": "light"
     },
     "output_type": "display_data"
    }
   ],
   "source": [
    "## 3. Diverging: palette contains 2 colors with diff shades\n",
    "sns.palplot(sns.color_palette('OrRd'))"
   ]
  },
  {
   "cell_type": "code",
   "execution_count": 70,
   "id": "eadc8f66",
   "metadata": {},
   "outputs": [
    {
     "data": {
      "image/png": "[encoded data removed]",
      "text/plain": [
       "<Figure size 7200x72 with 1 Axes>"
      ]
     },
     "metadata": {
      "needs_background": "light"
     },
     "output_type": "display_data"
    }
   ],
   "source": [
    "sns.palplot(sns.color_palette('RdBu', n_colors = 100))"
   ]
  },
  {
   "cell_type": "code",
   "execution_count": 71,
   "id": "d29697b7",
   "metadata": {},
   "outputs": [
    {
     "ename": "ValueError",
     "evalue": "OrR is not a valid palette name",
     "output_type": "error",
     "traceback": [
      "\u001b[1;31m---------------------------------------------------------------------------\u001b[0m",
      "\u001b[1;31mValueError\u001b[0m                                Traceback (most recent call last)",
      "\u001b[1;32m~\\anaconda3\\lib\\site-packages\\seaborn\\palettes.py\u001b[0m in \u001b[0;36mcolor_palette\u001b[1;34m(palette, n_colors, desat, as_cmap)\u001b[0m\n\u001b[0;32m    205\u001b[0m                 \u001b[1;31m# Perhaps a named matplotlib colormap?\u001b[0m\u001b[1;33m\u001b[0m\u001b[1;33m\u001b[0m\u001b[0m\n\u001b[1;32m--> 206\u001b[1;33m                 \u001b[0mpalette\u001b[0m \u001b[1;33m=\u001b[0m \u001b[0mmpl_palette\u001b[0m\u001b[1;33m(\u001b[0m\u001b[0mpalette\u001b[0m\u001b[1;33m,\u001b[0m \u001b[0mn_colors\u001b[0m\u001b[1;33m,\u001b[0m \u001b[0mas_cmap\u001b[0m\u001b[1;33m=\u001b[0m\u001b[0mas_cmap\u001b[0m\u001b[1;33m)\u001b[0m\u001b[1;33m\u001b[0m\u001b[1;33m\u001b[0m\u001b[0m\n\u001b[0m\u001b[0;32m    207\u001b[0m             \u001b[1;32mexcept\u001b[0m \u001b[0mValueError\u001b[0m\u001b[1;33m:\u001b[0m\u001b[1;33m\u001b[0m\u001b[1;33m\u001b[0m\u001b[0m\n",
      "\u001b[1;32m~\\anaconda3\\lib\\site-packages\\seaborn\\palettes.py\u001b[0m in \u001b[0;36mmpl_palette\u001b[1;34m(name, n_colors, as_cmap)\u001b[0m\n\u001b[0;32m    442\u001b[0m     \u001b[1;32melse\u001b[0m\u001b[1;33m:\u001b[0m\u001b[1;33m\u001b[0m\u001b[1;33m\u001b[0m\u001b[0m\n\u001b[1;32m--> 443\u001b[1;33m         \u001b[0mcmap\u001b[0m \u001b[1;33m=\u001b[0m \u001b[0mmpl\u001b[0m\u001b[1;33m.\u001b[0m\u001b[0mcm\u001b[0m\u001b[1;33m.\u001b[0m\u001b[0mget_cmap\u001b[0m\u001b[1;33m(\u001b[0m\u001b[0mname\u001b[0m\u001b[1;33m)\u001b[0m\u001b[1;33m\u001b[0m\u001b[1;33m\u001b[0m\u001b[0m\n\u001b[0m\u001b[0;32m    444\u001b[0m \u001b[1;33m\u001b[0m\u001b[0m\n",
      "\u001b[1;32m~\\anaconda3\\lib\\site-packages\\matplotlib\\cm.py\u001b[0m in \u001b[0;36mget_cmap\u001b[1;34m(name, lut)\u001b[0m\n\u001b[0;32m    189\u001b[0m         \u001b[1;32mreturn\u001b[0m \u001b[0mname\u001b[0m\u001b[1;33m\u001b[0m\u001b[1;33m\u001b[0m\u001b[0m\n\u001b[1;32m--> 190\u001b[1;33m     \u001b[0m_api\u001b[0m\u001b[1;33m.\u001b[0m\u001b[0mcheck_in_list\u001b[0m\u001b[1;33m(\u001b[0m\u001b[0msorted\u001b[0m\u001b[1;33m(\u001b[0m\u001b[0m_cmap_registry\u001b[0m\u001b[1;33m)\u001b[0m\u001b[1;33m,\u001b[0m \u001b[0mname\u001b[0m\u001b[1;33m=\u001b[0m\u001b[0mname\u001b[0m\u001b[1;33m)\u001b[0m\u001b[1;33m\u001b[0m\u001b[1;33m\u001b[0m\u001b[0m\n\u001b[0m\u001b[0;32m    191\u001b[0m     \u001b[1;32mif\u001b[0m \u001b[0mlut\u001b[0m \u001b[1;32mis\u001b[0m \u001b[1;32mNone\u001b[0m\u001b[1;33m:\u001b[0m\u001b[1;33m\u001b[0m\u001b[1;33m\u001b[0m\u001b[0m\n",
      "\u001b[1;32m~\\anaconda3\\lib\\site-packages\\matplotlib\\_api\\__init__.py\u001b[0m in \u001b[0;36mcheck_in_list\u001b[1;34m(_values, _print_supported_values, **kwargs)\u001b[0m\n\u001b[0;32m    125\u001b[0m             \u001b[1;32mif\u001b[0m \u001b[0m_print_supported_values\u001b[0m\u001b[1;33m:\u001b[0m\u001b[1;33m\u001b[0m\u001b[1;33m\u001b[0m\u001b[0m\n\u001b[1;32m--> 126\u001b[1;33m                 raise ValueError(\n\u001b[0m\u001b[0;32m    127\u001b[0m                     \u001b[1;34mf\"{val!r} is not a valid value for {key}; \"\u001b[0m\u001b[1;33m\u001b[0m\u001b[1;33m\u001b[0m\u001b[0m\n",
      "\u001b[1;31mValueError\u001b[0m: 'OrR' is not a valid value for name; supported values are 'Accent', 'Accent_r', 'Blues', 'Blues_r', 'BrBG', 'BrBG_r', 'BuGn', 'BuGn_r', 'BuPu', 'BuPu_r', 'CMRmap', 'CMRmap_r', 'Dark2', 'Dark2_r', 'GnBu', 'GnBu_r', 'Greens', 'Greens_r', 'Greys', 'Greys_r', 'OrRd', 'OrRd_r', 'Oranges', 'Oranges_r', 'PRGn', 'PRGn_r', 'Paired', 'Paired_r', 'Pastel1', 'Pastel1_r', 'Pastel2', 'Pastel2_r', 'PiYG', 'PiYG_r', 'PuBu', 'PuBuGn', 'PuBuGn_r', 'PuBu_r', 'PuOr', 'PuOr_r', 'PuRd', 'PuRd_r', 'Purples', 'Purples_r', 'RdBu', 'RdBu_r', 'RdGy', 'RdGy_r', 'RdPu', 'RdPu_r', 'RdYlBu', 'RdYlBu_r', 'RdYlGn', 'RdYlGn_r', 'Reds', 'Reds_r', 'Set1', 'Set1_r', 'Set2', 'Set2_r', 'Set3', 'Set3_r', 'Spectral', 'Spectral_r', 'Wistia', 'Wistia_r', 'YlGn', 'YlGnBu', 'YlGnBu_r', 'YlGn_r', 'YlOrBr', 'YlOrBr_r', 'YlOrRd', 'YlOrRd_r', 'afmhot', 'afmhot_r', 'autumn', 'autumn_r', 'binary', 'binary_r', 'bone', 'bone_r', 'brg', 'brg_r', 'bwr', 'bwr_r', 'cividis', 'cividis_r', 'cool', 'cool_r', 'coolwarm', 'coolwarm_r', 'copper', 'copper_r', 'crest', 'crest_r', 'cubehelix', 'cubehelix_r', 'flag', 'flag_r', 'flare', 'flare_r', 'gist_earth', 'gist_earth_r', 'gist_gray', 'gist_gray_r', 'gist_heat', 'gist_heat_r', 'gist_ncar', 'gist_ncar_r', 'gist_rainbow', 'gist_rainbow_r', 'gist_stern', 'gist_stern_r', 'gist_yarg', 'gist_yarg_r', 'gnuplot', 'gnuplot2', 'gnuplot2_r', 'gnuplot_r', 'gray', 'gray_r', 'hot', 'hot_r', 'hsv', 'hsv_r', 'icefire', 'icefire_r', 'inferno', 'inferno_r', 'jet', 'jet_r', 'magma', 'magma_r', 'mako', 'mako_r', 'nipy_spectral', 'nipy_spectral_r', 'ocean', 'ocean_r', 'pink', 'pink_r', 'plasma', 'plasma_r', 'prism', 'prism_r', 'rainbow', 'rainbow_r', 'rocket', 'rocket_r', 'seismic', 'seismic_r', 'spring', 'spring_r', 'summer', 'summer_r', 'tab10', 'tab10_r', 'tab20', 'tab20_r', 'tab20b', 'tab20b_r', 'tab20c', 'tab20c_r', 'terrain', 'terrain_r', 'turbo', 'turbo_r', 'twilight', 'twilight_r', 'twilight_shifted', 'twilight_shifted_r', 'viridis', 'viridis_r', 'vlag', 'vlag_r', 'winter', 'winter_r'",
      "\nDuring handling of the above exception, another exception occurred:\n",
      "\u001b[1;31mValueError\u001b[0m                                Traceback (most recent call last)",
      "\u001b[1;32m~\\AppData\\Local\\Temp/ipykernel_4056/3997725223.py\u001b[0m in \u001b[0;36m<module>\u001b[1;34m\u001b[0m\n\u001b[1;32m----> 1\u001b[1;33m \u001b[0msns\u001b[0m\u001b[1;33m.\u001b[0m\u001b[0mpalplot\u001b[0m\u001b[1;33m(\u001b[0m\u001b[0msns\u001b[0m\u001b[1;33m.\u001b[0m\u001b[0mcolor_palette\u001b[0m\u001b[1;33m(\u001b[0m\u001b[1;34m'OrR'\u001b[0m\u001b[1;33m)\u001b[0m\u001b[1;33m)\u001b[0m\u001b[1;33m\u001b[0m\u001b[1;33m\u001b[0m\u001b[0m\n\u001b[0m",
      "\u001b[1;32m~\\anaconda3\\lib\\site-packages\\seaborn\\palettes.py\u001b[0m in \u001b[0;36mcolor_palette\u001b[1;34m(palette, n_colors, desat, as_cmap)\u001b[0m\n\u001b[0;32m    206\u001b[0m                 \u001b[0mpalette\u001b[0m \u001b[1;33m=\u001b[0m \u001b[0mmpl_palette\u001b[0m\u001b[1;33m(\u001b[0m\u001b[0mpalette\u001b[0m\u001b[1;33m,\u001b[0m \u001b[0mn_colors\u001b[0m\u001b[1;33m,\u001b[0m \u001b[0mas_cmap\u001b[0m\u001b[1;33m=\u001b[0m\u001b[0mas_cmap\u001b[0m\u001b[1;33m)\u001b[0m\u001b[1;33m\u001b[0m\u001b[1;33m\u001b[0m\u001b[0m\n\u001b[0;32m    207\u001b[0m             \u001b[1;32mexcept\u001b[0m \u001b[0mValueError\u001b[0m\u001b[1;33m:\u001b[0m\u001b[1;33m\u001b[0m\u001b[1;33m\u001b[0m\u001b[0m\n\u001b[1;32m--> 208\u001b[1;33m                 \u001b[1;32mraise\u001b[0m \u001b[0mValueError\u001b[0m\u001b[1;33m(\u001b[0m\u001b[1;34m\"%s is not a valid palette name\"\u001b[0m \u001b[1;33m%\u001b[0m \u001b[0mpalette\u001b[0m\u001b[1;33m)\u001b[0m\u001b[1;33m\u001b[0m\u001b[1;33m\u001b[0m\u001b[0m\n\u001b[0m\u001b[0;32m    209\u001b[0m \u001b[1;33m\u001b[0m\u001b[0m\n\u001b[0;32m    210\u001b[0m     \u001b[1;32mif\u001b[0m \u001b[0mdesat\u001b[0m \u001b[1;32mis\u001b[0m \u001b[1;32mnot\u001b[0m \u001b[1;32mNone\u001b[0m\u001b[1;33m:\u001b[0m\u001b[1;33m\u001b[0m\u001b[1;33m\u001b[0m\u001b[0m\n",
      "\u001b[1;31mValueError\u001b[0m: OrR is not a valid palette name"
     ]
    }
   ],
   "source": [
    "sns.palplot(sns.color_palette('OrR'))"
   ]
  },
  {
   "cell_type": "code",
   "execution_count": null,
   "id": "58871949",
   "metadata": {},
   "outputs": [],
   "source": []
  }
 ],
 "metadata": {
  "kernelspec": {
   "display_name": "Python 3 (ipykernel)",
   "language": "python",
   "name": "python3"
  },
  "language_info": {
   "codemirror_mode": {
    "name": "ipython",
    "version": 3
   },
   "file_extension": ".py",
   "mimetype": "text/x-python",
   "name": "python",
   "nbconvert_exporter": "python",
   "pygments_lexer": "ipython3",
   "version": "3.9.7"
  }
 },
 "nbformat": 4,
 "nbformat_minor": 5
}
