{
 "cells": [
  {
   "cell_type": "markdown",
   "id": "b19c3929",
   "metadata": {},
   "source": [
    "# Title\n",
    "## Heading\n",
    "### Heading 2\n",
    "#### Heading 3\n",
    "##### Heading 4\n",
    "\n",
    "\n",
    "- Shift + Enter : To execute the cell\n",
    "\n",
    "- **Bold Letters**\n",
    "- *Italic Letters*\n",
    "\n",
    "- Esc + m: To convert code cell to markdown cell\n",
    "- Esc + y: To convert markdown cell to code cell"
   ]
  },
  {
   "cell_type": "code",
   "execution_count": null,
   "id": "9e13cce4",
   "metadata": {},
   "outputs": [],
   "source": []
  }
 ],
 "metadata": {
  "kernelspec": {
   "display_name": "Python 3 (ipykernel)",
   "language": "python",
   "name": "python3"
  },
  "language_info": {
   "codemirror_mode": {
    "name": "ipython",
    "version": 3
   },
   "file_extension": ".py",
   "mimetype": "text/x-python",
   "name": "python",
   "nbconvert_exporter": "python",
   "pygments_lexer": "ipython3",
   "version": "3.9.7"
  }
 },
 "nbformat": 4,
 "nbformat_minor": 5
}
